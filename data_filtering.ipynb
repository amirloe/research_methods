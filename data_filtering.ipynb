{
 "cells": [
  {
   "cell_type": "code",
   "execution_count": 1,
   "metadata": {
    "collapsed": true
   },
   "outputs": [],
   "source": [
    "import pandas as pd\n",
    "import numpy as np"
   ]
  },
  {
   "cell_type": "code",
   "execution_count": 2,
   "outputs": [],
   "source": [
    "data = pd.read_csv(\"ydata-ymusic-user-artist-ratings-v1_0.txt\",sep='\\t',header=None,names =[\"user_id\",\"artist_id\",\"rating\"])\n"
   ],
   "metadata": {
    "collapsed": false,
    "pycharm": {
     "name": "#%%\n"
    }
   }
  },
  {
   "cell_type": "code",
   "execution_count": null,
   "outputs": [],
   "source": [
    "top_artists = data[data.groupby('artist_id').user_id.transform(len) > 20000]\n",
    "\n"
   ],
   "metadata": {
    "collapsed": false,
    "pycharm": {
     "name": "#%%\n"
    }
   }
  },
  {
   "cell_type": "code",
   "execution_count": null,
   "outputs": [],
   "source": [
    "top_users = top_artists[top_artists.groupby('user_id').artist_id.transform(len) > 200]"
   ],
   "metadata": {
    "collapsed": false,
    "pycharm": {
     "name": "#%%\n"
    }
   }
  },
  {
   "cell_type": "code",
   "execution_count": null,
   "outputs": [],
   "source": [
    "\n"
   ],
   "metadata": {
    "collapsed": false,
    "pycharm": {
     "name": "#%%\n"
    }
   }
  },
  {
   "cell_type": "code",
   "execution_count": null,
   "outputs": [],
   "source": [
    "top_users['rating'] = top_users['rating'].apply(lambda x:np.ceil(x/20) if 100 >= x > 0 else 1.)\n"
   ],
   "metadata": {
    "collapsed": false,
    "pycharm": {
     "name": "#%%\n"
    }
   }
  },
  {
   "cell_type": "code",
   "execution_count": null,
   "outputs": [],
   "source": [
    "user_count = top_users.groupby(['user_id']).count()\n",
    "artist_count = top_users.groupby(['artist_id']).count()\n"
   ],
   "metadata": {
    "collapsed": false,
    "pycharm": {
     "name": "#%%\n"
    }
   }
  },
  {
   "cell_type": "code",
   "execution_count": null,
   "outputs": [],
   "source": [
    "user_item_matrix = top_users.pivot(index = 'user_id', columns ='artist_id', values = 'rating')\n",
    "\n"
   ],
   "metadata": {
    "collapsed": false,
    "pycharm": {
     "name": "#%%\n"
    }
   }
  },
  {
   "cell_type": "code",
   "execution_count": null,
   "outputs": [],
   "source": [
    "user_item_matrix.to_csv(\"post_preprocess.csv\")"
   ],
   "metadata": {
    "collapsed": false,
    "pycharm": {
     "name": "#%%\n"
    }
   }
  },
  {
   "cell_type": "code",
   "execution_count": 4,
   "outputs": [],
   "source": [
    "# FROM HERE NEW CODE\n",
    "# n1 - artists limit\n",
    "# n2 - users limit\n",
    "no_zeros = data[data['rating']>0]\n",
    "count_artist = no_zeros.groupby('artist_id').count()"
   ],
   "metadata": {
    "collapsed": false,
    "pycharm": {
     "name": "#%%\n"
    }
   }
  },
  {
   "cell_type": "code",
   "execution_count": 35,
   "outputs": [],
   "source": [
    "n1=1500\n",
    "indexes1 = count_artist.nlargest(n1,'user_id').index.to_numpy()\n",
    "top_n_artists = no_zeros[no_zeros['artist_id'].isin(indexes1)]"
   ],
   "metadata": {
    "collapsed": false,
    "pycharm": {
     "name": "#%%\n"
    }
   }
  },
  {
   "cell_type": "code",
   "execution_count": 36,
   "outputs": [],
   "source": [
    "count_users = top_n_artists.groupby('user_id').count()"
   ],
   "metadata": {
    "collapsed": false,
    "pycharm": {
     "name": "#%%\n"
    }
   }
  },
  {
   "cell_type": "code",
   "execution_count": 37,
   "outputs": [
    {
     "data": {
      "text/plain": "           user_id  artist_id  rating\n144201        2500    1000004      45\n144202        2500    1000006      60\n144203        2500    1000012      65\n144205        2500    1000163      55\n144206        2500    1000252      55\n...            ...        ...     ...\n115578589  1948869    1099693      50\n115578592  1948869    1100124      30\n115578595  1948869    1100578      50\n115578596  1948869    1100657      50\n115578598  1948869    1100995      50\n\n[2018700 rows x 3 columns]",
      "text/html": "<div>\n<style scoped>\n    .dataframe tbody tr th:only-of-type {\n        vertical-align: middle;\n    }\n\n    .dataframe tbody tr th {\n        vertical-align: top;\n    }\n\n    .dataframe thead th {\n        text-align: right;\n    }\n</style>\n<table border=\"1\" class=\"dataframe\">\n  <thead>\n    <tr style=\"text-align: right;\">\n      <th></th>\n      <th>user_id</th>\n      <th>artist_id</th>\n      <th>rating</th>\n    </tr>\n  </thead>\n  <tbody>\n    <tr>\n      <th>144201</th>\n      <td>2500</td>\n      <td>1000004</td>\n      <td>45</td>\n    </tr>\n    <tr>\n      <th>144202</th>\n      <td>2500</td>\n      <td>1000006</td>\n      <td>60</td>\n    </tr>\n    <tr>\n      <th>144203</th>\n      <td>2500</td>\n      <td>1000012</td>\n      <td>65</td>\n    </tr>\n    <tr>\n      <th>144205</th>\n      <td>2500</td>\n      <td>1000163</td>\n      <td>55</td>\n    </tr>\n    <tr>\n      <th>144206</th>\n      <td>2500</td>\n      <td>1000252</td>\n      <td>55</td>\n    </tr>\n    <tr>\n      <th>...</th>\n      <td>...</td>\n      <td>...</td>\n      <td>...</td>\n    </tr>\n    <tr>\n      <th>115578589</th>\n      <td>1948869</td>\n      <td>1099693</td>\n      <td>50</td>\n    </tr>\n    <tr>\n      <th>115578592</th>\n      <td>1948869</td>\n      <td>1100124</td>\n      <td>30</td>\n    </tr>\n    <tr>\n      <th>115578595</th>\n      <td>1948869</td>\n      <td>1100578</td>\n      <td>50</td>\n    </tr>\n    <tr>\n      <th>115578596</th>\n      <td>1948869</td>\n      <td>1100657</td>\n      <td>50</td>\n    </tr>\n    <tr>\n      <th>115578598</th>\n      <td>1948869</td>\n      <td>1100995</td>\n      <td>50</td>\n    </tr>\n  </tbody>\n</table>\n<p>2018700 rows × 3 columns</p>\n</div>"
     },
     "execution_count": 37,
     "metadata": {},
     "output_type": "execute_result"
    }
   ],
   "source": [
    "n2 = 3000\n",
    "indexes2 = count_users.nlargest(n2,'artist_id').index.to_numpy()\n",
    "top_n_users = top_n_artists[top_n_artists['user_id'].isin(indexes2)]\n",
    "top_n_users"
   ],
   "metadata": {
    "collapsed": false,
    "pycharm": {
     "name": "#%%\n"
    }
   }
  },
  {
   "cell_type": "code",
   "execution_count": 39,
   "outputs": [
    {
     "name": "stderr",
     "output_type": "stream",
     "text": [
      "<ipython-input-39-f9477ddf921f>:1: SettingWithCopyWarning: \n",
      "A value is trying to be set on a copy of a slice from a DataFrame.\n",
      "Try using .loc[row_indexer,col_indexer] = value instead\n",
      "\n",
      "See the caveats in the documentation: https://pandas.pydata.org/pandas-docs/stable/user_guide/indexing.html#returning-a-view-versus-a-copy\n",
      "  top_n_users['rating'] = top_n_users['rating'].apply(lambda x:np.ceil(x/20) if 100 >= x > 0 else 1.)\n"
     ]
    }
   ],
   "source": [
    "top_n_users['rating'] = top_n_users['rating'].apply(lambda x:np.ceil(x/20) if 100 >= x > 0 else 1.)"
   ],
   "metadata": {
    "collapsed": false,
    "pycharm": {
     "name": "#%%\n"
    }
   }
  },
  {
   "cell_type": "code",
   "execution_count": 40,
   "outputs": [],
   "source": [
    "user_item_matrix = top_n_users.pivot(index = 'user_id', columns ='artist_id', values = 'rating')"
   ],
   "metadata": {
    "collapsed": false,
    "pycharm": {
     "name": "#%%\n"
    }
   }
  },
  {
   "cell_type": "code",
   "execution_count": 41,
   "outputs": [
    {
     "data": {
      "text/plain": "artist_id  24538    1000004  1000006  1000012  1000026  1000084  1000125  \\\nuser_id                                                                    \n2500           NaN      3.0      3.0      4.0      NaN      NaN      NaN   \n2663           NaN      5.0      5.0      5.0      NaN      5.0      NaN   \n3414           NaN      5.0      5.0      5.0      2.0      NaN      NaN   \n4990           NaN      NaN      5.0      5.0      NaN      NaN      NaN   \n5602           NaN      3.0      NaN      2.0      2.0      3.0      5.0   \n...            ...      ...      ...      ...      ...      ...      ...   \n1946004        NaN      5.0      3.0      5.0      NaN      NaN      NaN   \n1946650        NaN      NaN      NaN      5.0      3.0      NaN      5.0   \n1947614        NaN      3.0      NaN      3.0      4.0      4.0      5.0   \n1948075        NaN      1.0      1.0      3.0      NaN      NaN      NaN   \n1948869        NaN      3.0      NaN      2.0      2.0      3.0      NaN   \n\nartist_id  1000143  1000163  1000178  ...  1099699  1100124  1100232  1100250  \\\nuser_id                               ...                                       \n2500           NaN      3.0      NaN  ...      NaN      NaN      NaN      NaN   \n2663           5.0      4.0      NaN  ...      NaN      NaN      NaN      4.0   \n3414           1.0      NaN      1.0  ...      NaN      NaN      NaN      NaN   \n4990           NaN      NaN      5.0  ...      NaN      NaN      NaN      NaN   \n5602           NaN      2.0      NaN  ...      5.0      NaN      NaN      NaN   \n...            ...      ...      ...  ...      ...      ...      ...      ...   \n1946004        3.0      3.0      4.0  ...      NaN      NaN      NaN      4.0   \n1946650        5.0      NaN      NaN  ...      NaN      NaN      NaN      NaN   \n1947614        3.0      NaN      NaN  ...      3.0      NaN      NaN      NaN   \n1948075        NaN      3.0      NaN  ...      NaN      NaN      NaN      NaN   \n1948869        NaN      NaN      NaN  ...      NaN      2.0      NaN      NaN   \n\nartist_id  1100578  1100657  1100796  1100834  1100969  1100995  \nuser_id                                                          \n2500           NaN      NaN      NaN      NaN      NaN      NaN  \n2663           NaN      NaN      NaN      NaN      NaN      5.0  \n3414           NaN      NaN      NaN      NaN      NaN      2.0  \n4990           NaN      NaN      NaN      NaN      NaN      NaN  \n5602           3.0      4.0      NaN      NaN      NaN      4.0  \n...            ...      ...      ...      ...      ...      ...  \n1946004        NaN      NaN      NaN      NaN      NaN      NaN  \n1946650        NaN      NaN      NaN      NaN      NaN      NaN  \n1947614        NaN      4.0      NaN      NaN      NaN      NaN  \n1948075        NaN      2.0      NaN      NaN      NaN      4.0  \n1948869        3.0      3.0      NaN      NaN      NaN      3.0  \n\n[3000 rows x 1500 columns]",
      "text/html": "<div>\n<style scoped>\n    .dataframe tbody tr th:only-of-type {\n        vertical-align: middle;\n    }\n\n    .dataframe tbody tr th {\n        vertical-align: top;\n    }\n\n    .dataframe thead th {\n        text-align: right;\n    }\n</style>\n<table border=\"1\" class=\"dataframe\">\n  <thead>\n    <tr style=\"text-align: right;\">\n      <th>artist_id</th>\n      <th>24538</th>\n      <th>1000004</th>\n      <th>1000006</th>\n      <th>1000012</th>\n      <th>1000026</th>\n      <th>1000084</th>\n      <th>1000125</th>\n      <th>1000143</th>\n      <th>1000163</th>\n      <th>1000178</th>\n      <th>...</th>\n      <th>1099699</th>\n      <th>1100124</th>\n      <th>1100232</th>\n      <th>1100250</th>\n      <th>1100578</th>\n      <th>1100657</th>\n      <th>1100796</th>\n      <th>1100834</th>\n      <th>1100969</th>\n      <th>1100995</th>\n    </tr>\n    <tr>\n      <th>user_id</th>\n      <th></th>\n      <th></th>\n      <th></th>\n      <th></th>\n      <th></th>\n      <th></th>\n      <th></th>\n      <th></th>\n      <th></th>\n      <th></th>\n      <th></th>\n      <th></th>\n      <th></th>\n      <th></th>\n      <th></th>\n      <th></th>\n      <th></th>\n      <th></th>\n      <th></th>\n      <th></th>\n      <th></th>\n    </tr>\n  </thead>\n  <tbody>\n    <tr>\n      <th>2500</th>\n      <td>NaN</td>\n      <td>3.0</td>\n      <td>3.0</td>\n      <td>4.0</td>\n      <td>NaN</td>\n      <td>NaN</td>\n      <td>NaN</td>\n      <td>NaN</td>\n      <td>3.0</td>\n      <td>NaN</td>\n      <td>...</td>\n      <td>NaN</td>\n      <td>NaN</td>\n      <td>NaN</td>\n      <td>NaN</td>\n      <td>NaN</td>\n      <td>NaN</td>\n      <td>NaN</td>\n      <td>NaN</td>\n      <td>NaN</td>\n      <td>NaN</td>\n    </tr>\n    <tr>\n      <th>2663</th>\n      <td>NaN</td>\n      <td>5.0</td>\n      <td>5.0</td>\n      <td>5.0</td>\n      <td>NaN</td>\n      <td>5.0</td>\n      <td>NaN</td>\n      <td>5.0</td>\n      <td>4.0</td>\n      <td>NaN</td>\n      <td>...</td>\n      <td>NaN</td>\n      <td>NaN</td>\n      <td>NaN</td>\n      <td>4.0</td>\n      <td>NaN</td>\n      <td>NaN</td>\n      <td>NaN</td>\n      <td>NaN</td>\n      <td>NaN</td>\n      <td>5.0</td>\n    </tr>\n    <tr>\n      <th>3414</th>\n      <td>NaN</td>\n      <td>5.0</td>\n      <td>5.0</td>\n      <td>5.0</td>\n      <td>2.0</td>\n      <td>NaN</td>\n      <td>NaN</td>\n      <td>1.0</td>\n      <td>NaN</td>\n      <td>1.0</td>\n      <td>...</td>\n      <td>NaN</td>\n      <td>NaN</td>\n      <td>NaN</td>\n      <td>NaN</td>\n      <td>NaN</td>\n      <td>NaN</td>\n      <td>NaN</td>\n      <td>NaN</td>\n      <td>NaN</td>\n      <td>2.0</td>\n    </tr>\n    <tr>\n      <th>4990</th>\n      <td>NaN</td>\n      <td>NaN</td>\n      <td>5.0</td>\n      <td>5.0</td>\n      <td>NaN</td>\n      <td>NaN</td>\n      <td>NaN</td>\n      <td>NaN</td>\n      <td>NaN</td>\n      <td>5.0</td>\n      <td>...</td>\n      <td>NaN</td>\n      <td>NaN</td>\n      <td>NaN</td>\n      <td>NaN</td>\n      <td>NaN</td>\n      <td>NaN</td>\n      <td>NaN</td>\n      <td>NaN</td>\n      <td>NaN</td>\n      <td>NaN</td>\n    </tr>\n    <tr>\n      <th>5602</th>\n      <td>NaN</td>\n      <td>3.0</td>\n      <td>NaN</td>\n      <td>2.0</td>\n      <td>2.0</td>\n      <td>3.0</td>\n      <td>5.0</td>\n      <td>NaN</td>\n      <td>2.0</td>\n      <td>NaN</td>\n      <td>...</td>\n      <td>5.0</td>\n      <td>NaN</td>\n      <td>NaN</td>\n      <td>NaN</td>\n      <td>3.0</td>\n      <td>4.0</td>\n      <td>NaN</td>\n      <td>NaN</td>\n      <td>NaN</td>\n      <td>4.0</td>\n    </tr>\n    <tr>\n      <th>...</th>\n      <td>...</td>\n      <td>...</td>\n      <td>...</td>\n      <td>...</td>\n      <td>...</td>\n      <td>...</td>\n      <td>...</td>\n      <td>...</td>\n      <td>...</td>\n      <td>...</td>\n      <td>...</td>\n      <td>...</td>\n      <td>...</td>\n      <td>...</td>\n      <td>...</td>\n      <td>...</td>\n      <td>...</td>\n      <td>...</td>\n      <td>...</td>\n      <td>...</td>\n      <td>...</td>\n    </tr>\n    <tr>\n      <th>1946004</th>\n      <td>NaN</td>\n      <td>5.0</td>\n      <td>3.0</td>\n      <td>5.0</td>\n      <td>NaN</td>\n      <td>NaN</td>\n      <td>NaN</td>\n      <td>3.0</td>\n      <td>3.0</td>\n      <td>4.0</td>\n      <td>...</td>\n      <td>NaN</td>\n      <td>NaN</td>\n      <td>NaN</td>\n      <td>4.0</td>\n      <td>NaN</td>\n      <td>NaN</td>\n      <td>NaN</td>\n      <td>NaN</td>\n      <td>NaN</td>\n      <td>NaN</td>\n    </tr>\n    <tr>\n      <th>1946650</th>\n      <td>NaN</td>\n      <td>NaN</td>\n      <td>NaN</td>\n      <td>5.0</td>\n      <td>3.0</td>\n      <td>NaN</td>\n      <td>5.0</td>\n      <td>5.0</td>\n      <td>NaN</td>\n      <td>NaN</td>\n      <td>...</td>\n      <td>NaN</td>\n      <td>NaN</td>\n      <td>NaN</td>\n      <td>NaN</td>\n      <td>NaN</td>\n      <td>NaN</td>\n      <td>NaN</td>\n      <td>NaN</td>\n      <td>NaN</td>\n      <td>NaN</td>\n    </tr>\n    <tr>\n      <th>1947614</th>\n      <td>NaN</td>\n      <td>3.0</td>\n      <td>NaN</td>\n      <td>3.0</td>\n      <td>4.0</td>\n      <td>4.0</td>\n      <td>5.0</td>\n      <td>3.0</td>\n      <td>NaN</td>\n      <td>NaN</td>\n      <td>...</td>\n      <td>3.0</td>\n      <td>NaN</td>\n      <td>NaN</td>\n      <td>NaN</td>\n      <td>NaN</td>\n      <td>4.0</td>\n      <td>NaN</td>\n      <td>NaN</td>\n      <td>NaN</td>\n      <td>NaN</td>\n    </tr>\n    <tr>\n      <th>1948075</th>\n      <td>NaN</td>\n      <td>1.0</td>\n      <td>1.0</td>\n      <td>3.0</td>\n      <td>NaN</td>\n      <td>NaN</td>\n      <td>NaN</td>\n      <td>NaN</td>\n      <td>3.0</td>\n      <td>NaN</td>\n      <td>...</td>\n      <td>NaN</td>\n      <td>NaN</td>\n      <td>NaN</td>\n      <td>NaN</td>\n      <td>NaN</td>\n      <td>2.0</td>\n      <td>NaN</td>\n      <td>NaN</td>\n      <td>NaN</td>\n      <td>4.0</td>\n    </tr>\n    <tr>\n      <th>1948869</th>\n      <td>NaN</td>\n      <td>3.0</td>\n      <td>NaN</td>\n      <td>2.0</td>\n      <td>2.0</td>\n      <td>3.0</td>\n      <td>NaN</td>\n      <td>NaN</td>\n      <td>NaN</td>\n      <td>NaN</td>\n      <td>...</td>\n      <td>NaN</td>\n      <td>2.0</td>\n      <td>NaN</td>\n      <td>NaN</td>\n      <td>3.0</td>\n      <td>3.0</td>\n      <td>NaN</td>\n      <td>NaN</td>\n      <td>NaN</td>\n      <td>3.0</td>\n    </tr>\n  </tbody>\n</table>\n<p>3000 rows × 1500 columns</p>\n</div>"
     },
     "execution_count": 41,
     "metadata": {},
     "output_type": "execute_result"
    }
   ],
   "source": [
    "user_item_matrix"
   ],
   "metadata": {
    "collapsed": false,
    "pycharm": {
     "name": "#%%\n"
    }
   }
  },
  {
   "cell_type": "code",
   "execution_count": 44,
   "outputs": [],
   "source": [
    "user_item_matrix.to_csv(f'{n2}_on_{n1}_no_zeros.csv')"
   ],
   "metadata": {
    "collapsed": false,
    "pycharm": {
     "name": "#%%\n"
    }
   }
  },
  {
   "cell_type": "code",
   "execution_count": 43,
   "outputs": [
    {
     "data": {
      "text/plain": "         artist_id  rating\nuser_id                   \n1187840       1477    1477\n302925        1475    1475\n1410497       1466    1466\n430585        1447    1447\n92678         1409    1409\n...            ...     ...\n485047         511     511\n610074         511     511\n757193         511     511\n937638         511     511\n1006939        511     511\n\n[3000 rows x 2 columns]",
      "text/html": "<div>\n<style scoped>\n    .dataframe tbody tr th:only-of-type {\n        vertical-align: middle;\n    }\n\n    .dataframe tbody tr th {\n        vertical-align: top;\n    }\n\n    .dataframe thead th {\n        text-align: right;\n    }\n</style>\n<table border=\"1\" class=\"dataframe\">\n  <thead>\n    <tr style=\"text-align: right;\">\n      <th></th>\n      <th>artist_id</th>\n      <th>rating</th>\n    </tr>\n    <tr>\n      <th>user_id</th>\n      <th></th>\n      <th></th>\n    </tr>\n  </thead>\n  <tbody>\n    <tr>\n      <th>1187840</th>\n      <td>1477</td>\n      <td>1477</td>\n    </tr>\n    <tr>\n      <th>302925</th>\n      <td>1475</td>\n      <td>1475</td>\n    </tr>\n    <tr>\n      <th>1410497</th>\n      <td>1466</td>\n      <td>1466</td>\n    </tr>\n    <tr>\n      <th>430585</th>\n      <td>1447</td>\n      <td>1447</td>\n    </tr>\n    <tr>\n      <th>92678</th>\n      <td>1409</td>\n      <td>1409</td>\n    </tr>\n    <tr>\n      <th>...</th>\n      <td>...</td>\n      <td>...</td>\n    </tr>\n    <tr>\n      <th>485047</th>\n      <td>511</td>\n      <td>511</td>\n    </tr>\n    <tr>\n      <th>610074</th>\n      <td>511</td>\n      <td>511</td>\n    </tr>\n    <tr>\n      <th>757193</th>\n      <td>511</td>\n      <td>511</td>\n    </tr>\n    <tr>\n      <th>937638</th>\n      <td>511</td>\n      <td>511</td>\n    </tr>\n    <tr>\n      <th>1006939</th>\n      <td>511</td>\n      <td>511</td>\n    </tr>\n  </tbody>\n</table>\n<p>3000 rows × 2 columns</p>\n</div>"
     },
     "execution_count": 43,
     "metadata": {},
     "output_type": "execute_result"
    }
   ],
   "source": [
    "count_users.nlargest(3000,'artist_id')\n"
   ],
   "metadata": {
    "collapsed": false,
    "pycharm": {
     "name": "#%%\n"
    }
   }
  },
  {
   "cell_type": "code",
   "execution_count": 47,
   "outputs": [],
   "source": [
    "\n",
    "df = pd.read_csv('datamatrix.csv',index_col=0)"
   ],
   "metadata": {
    "collapsed": false,
    "pycharm": {
     "name": "#%%\n"
    }
   }
  },
  {
   "cell_type": "code",
   "execution_count": 71,
   "outputs": [
    {
     "data": {
      "text/plain": "user_id\n1604137    4.580000\n1847670    4.576667\n92678      4.412667\n977346     4.373333\n430585     4.297333\n             ...   \n1164393    2.590667\n290609     2.565333\n1115613    2.560667\n630156     2.551333\n1652960    2.551333\nLength: 100, dtype: float64"
     },
     "execution_count": 71,
     "metadata": {},
     "output_type": "execute_result"
    }
   ],
   "source": [
    "df.fillna(0).mean(axis=1).nlargest(100)"
   ],
   "metadata": {
    "collapsed": false,
    "pycharm": {
     "name": "#%%\n"
    }
   }
  },
  {
   "cell_type": "code",
   "execution_count": 57,
   "outputs": [
    {
     "data": {
      "text/plain": "672.9"
     },
     "execution_count": 57,
     "metadata": {},
     "output_type": "execute_result"
    }
   ],
   "source": [
    "df.count(axis=1).mean()"
   ],
   "metadata": {
    "collapsed": false,
    "pycharm": {
     "name": "#%%\n"
    }
   }
  },
  {
   "cell_type": "code",
   "execution_count": 73,
   "outputs": [
    {
     "data": {
      "text/plain": "           user_id  artist_id  rating\n144201        2500    1000004     3.0\n144202        2500    1000006     3.0\n144203        2500    1000012     4.0\n144205        2500    1000163     3.0\n144206        2500    1000252     3.0\n...            ...        ...     ...\n115578589  1948869    1099693     3.0\n115578592  1948869    1100124     2.0\n115578595  1948869    1100578     3.0\n115578596  1948869    1100657     3.0\n115578598  1948869    1100995     3.0\n\n[2018700 rows x 3 columns]",
      "text/html": "<div>\n<style scoped>\n    .dataframe tbody tr th:only-of-type {\n        vertical-align: middle;\n    }\n\n    .dataframe tbody tr th {\n        vertical-align: top;\n    }\n\n    .dataframe thead th {\n        text-align: right;\n    }\n</style>\n<table border=\"1\" class=\"dataframe\">\n  <thead>\n    <tr style=\"text-align: right;\">\n      <th></th>\n      <th>user_id</th>\n      <th>artist_id</th>\n      <th>rating</th>\n    </tr>\n  </thead>\n  <tbody>\n    <tr>\n      <th>144201</th>\n      <td>2500</td>\n      <td>1000004</td>\n      <td>3.0</td>\n    </tr>\n    <tr>\n      <th>144202</th>\n      <td>2500</td>\n      <td>1000006</td>\n      <td>3.0</td>\n    </tr>\n    <tr>\n      <th>144203</th>\n      <td>2500</td>\n      <td>1000012</td>\n      <td>4.0</td>\n    </tr>\n    <tr>\n      <th>144205</th>\n      <td>2500</td>\n      <td>1000163</td>\n      <td>3.0</td>\n    </tr>\n    <tr>\n      <th>144206</th>\n      <td>2500</td>\n      <td>1000252</td>\n      <td>3.0</td>\n    </tr>\n    <tr>\n      <th>...</th>\n      <td>...</td>\n      <td>...</td>\n      <td>...</td>\n    </tr>\n    <tr>\n      <th>115578589</th>\n      <td>1948869</td>\n      <td>1099693</td>\n      <td>3.0</td>\n    </tr>\n    <tr>\n      <th>115578592</th>\n      <td>1948869</td>\n      <td>1100124</td>\n      <td>2.0</td>\n    </tr>\n    <tr>\n      <th>115578595</th>\n      <td>1948869</td>\n      <td>1100578</td>\n      <td>3.0</td>\n    </tr>\n    <tr>\n      <th>115578596</th>\n      <td>1948869</td>\n      <td>1100657</td>\n      <td>3.0</td>\n    </tr>\n    <tr>\n      <th>115578598</th>\n      <td>1948869</td>\n      <td>1100995</td>\n      <td>3.0</td>\n    </tr>\n  </tbody>\n</table>\n<p>2018700 rows × 3 columns</p>\n</div>"
     },
     "execution_count": 73,
     "metadata": {},
     "output_type": "execute_result"
    }
   ],
   "source": [
    "top_n_users"
   ],
   "metadata": {
    "collapsed": false,
    "pycharm": {
     "name": "#%%\n"
    }
   }
  },
  {
   "cell_type": "code",
   "execution_count": 101,
   "outputs": [],
   "source": [
    "n1=20\n",
    "_count_artist = top_n_users.groupby('artist_id').count()\n",
    "_indexes1 = _count_artist.nlargest(n1,'user_id').index.to_numpy()\n",
    "_top_n_artists = top_n_users[top_n_users['artist_id'].isin(_indexes1)]\n",
    "\n",
    "count_users = _top_n_artists.groupby('user_id').count()"
   ],
   "metadata": {
    "collapsed": false,
    "pycharm": {
     "name": "#%%\n"
    }
   }
  },
  {
   "cell_type": "code",
   "execution_count": 102,
   "outputs": [],
   "source": [
    "n2 = 1\n",
    "_indexes2 = count_users.nlargest(n2,'artist_id').index.to_numpy()\n",
    "_top_n_users = _top_n_artists[_top_n_artists['user_id'].isin(_indexes2)]"
   ],
   "metadata": {
    "collapsed": false,
    "pycharm": {
     "name": "#%%\n"
    }
   }
  },
  {
   "cell_type": "code",
   "execution_count": 138,
   "outputs": [
    {
     "name": "stderr",
     "output_type": "stream",
     "text": [
      "<ipython-input-138-bb8e77f3edc1>:1: UserWarning: Boolean Series key will be reindexed to match DataFrame index.\n",
      "  above_4 = top_n_users[top_n_users['user_id']==2500][top_n_users['rating']>=4.]\n",
      "<ipython-input-138-bb8e77f3edc1>:2: UserWarning: Boolean Series key will be reindexed to match DataFrame index.\n",
      "  below_2 = top_n_users[top_n_users['user_id']==2500][top_n_users['rating']<3.]\n"
     ]
    }
   ],
   "source": [
    "above_4 = top_n_users[top_n_users['user_id']==2500][top_n_users['rating']>=4.]\n",
    "below_2 = top_n_users[top_n_users['user_id']==2500][top_n_users['rating']<3.]"
   ],
   "metadata": {
    "collapsed": false,
    "pycharm": {
     "name": "#%%\n"
    }
   }
  },
  {
   "cell_type": "code",
   "execution_count": 139,
   "outputs": [],
   "source": [
    "id_to_name = pd.read_csv('ydata-ymusic-artist-names-v1_0.txt',sep='\\t',header=None,encoding='latin-1',names =[\"artist_id\",\"name\"])"
   ],
   "metadata": {
    "collapsed": false,
    "pycharm": {
     "name": "#%%\n"
    }
   }
  },
  {
   "cell_type": "code",
   "execution_count": 140,
   "outputs": [
    {
     "data": {
      "text/plain": "       artist_id            name\n0           -100  Not Applicable\n1            -99  Unknown Artist\n2        1000001       Bobby \"O\"\n3        1000002       Jimmy \"Z\"\n4        1000003    '68 Comeback\n...          ...             ...\n97951    1101110   14 Karat Soul\n97952    1101111   The Relativez\n97953    1101112       Crooked I\n97954    1101113             SKG\n97955    1101114       Mac Shawn\n\n[97956 rows x 2 columns]",
      "text/html": "<div>\n<style scoped>\n    .dataframe tbody tr th:only-of-type {\n        vertical-align: middle;\n    }\n\n    .dataframe tbody tr th {\n        vertical-align: top;\n    }\n\n    .dataframe thead th {\n        text-align: right;\n    }\n</style>\n<table border=\"1\" class=\"dataframe\">\n  <thead>\n    <tr style=\"text-align: right;\">\n      <th></th>\n      <th>artist_id</th>\n      <th>name</th>\n    </tr>\n  </thead>\n  <tbody>\n    <tr>\n      <th>0</th>\n      <td>-100</td>\n      <td>Not Applicable</td>\n    </tr>\n    <tr>\n      <th>1</th>\n      <td>-99</td>\n      <td>Unknown Artist</td>\n    </tr>\n    <tr>\n      <th>2</th>\n      <td>1000001</td>\n      <td>Bobby \"O\"</td>\n    </tr>\n    <tr>\n      <th>3</th>\n      <td>1000002</td>\n      <td>Jimmy \"Z\"</td>\n    </tr>\n    <tr>\n      <th>4</th>\n      <td>1000003</td>\n      <td>'68 Comeback</td>\n    </tr>\n    <tr>\n      <th>...</th>\n      <td>...</td>\n      <td>...</td>\n    </tr>\n    <tr>\n      <th>97951</th>\n      <td>1101110</td>\n      <td>14 Karat Soul</td>\n    </tr>\n    <tr>\n      <th>97952</th>\n      <td>1101111</td>\n      <td>The Relativez</td>\n    </tr>\n    <tr>\n      <th>97953</th>\n      <td>1101112</td>\n      <td>Crooked I</td>\n    </tr>\n    <tr>\n      <th>97954</th>\n      <td>1101113</td>\n      <td>SKG</td>\n    </tr>\n    <tr>\n      <th>97955</th>\n      <td>1101114</td>\n      <td>Mac Shawn</td>\n    </tr>\n  </tbody>\n</table>\n<p>97956 rows × 2 columns</p>\n</div>"
     },
     "execution_count": 140,
     "metadata": {},
     "output_type": "execute_result"
    }
   ],
   "source": [
    "id_to_name"
   ],
   "metadata": {
    "collapsed": false,
    "pycharm": {
     "name": "#%%\n"
    }
   }
  },
  {
   "cell_type": "code",
   "execution_count": 145,
   "outputs": [
    {
     "data": {
      "text/plain": "        user_id  artist_id  rating\n144203     2500    1000012     4.0\n144213     2500    1000454     4.0\n144220     2500    1000746     5.0\n144225     2500    1000861     4.0\n144244     2500    1001606     5.0\n...         ...        ...     ...\n146058     2500    1098208     4.0\n146078     2500    1098279     4.0\n146245     2500    1098988     4.0\n146282     2500    1099557     4.0\n146284     2500    1099693     4.0\n\n[155 rows x 3 columns]",
      "text/html": "<div>\n<style scoped>\n    .dataframe tbody tr th:only-of-type {\n        vertical-align: middle;\n    }\n\n    .dataframe tbody tr th {\n        vertical-align: top;\n    }\n\n    .dataframe thead th {\n        text-align: right;\n    }\n</style>\n<table border=\"1\" class=\"dataframe\">\n  <thead>\n    <tr style=\"text-align: right;\">\n      <th></th>\n      <th>user_id</th>\n      <th>artist_id</th>\n      <th>rating</th>\n    </tr>\n  </thead>\n  <tbody>\n    <tr>\n      <th>144203</th>\n      <td>2500</td>\n      <td>1000012</td>\n      <td>4.0</td>\n    </tr>\n    <tr>\n      <th>144213</th>\n      <td>2500</td>\n      <td>1000454</td>\n      <td>4.0</td>\n    </tr>\n    <tr>\n      <th>144220</th>\n      <td>2500</td>\n      <td>1000746</td>\n      <td>5.0</td>\n    </tr>\n    <tr>\n      <th>144225</th>\n      <td>2500</td>\n      <td>1000861</td>\n      <td>4.0</td>\n    </tr>\n    <tr>\n      <th>144244</th>\n      <td>2500</td>\n      <td>1001606</td>\n      <td>5.0</td>\n    </tr>\n    <tr>\n      <th>...</th>\n      <td>...</td>\n      <td>...</td>\n      <td>...</td>\n    </tr>\n    <tr>\n      <th>146058</th>\n      <td>2500</td>\n      <td>1098208</td>\n      <td>4.0</td>\n    </tr>\n    <tr>\n      <th>146078</th>\n      <td>2500</td>\n      <td>1098279</td>\n      <td>4.0</td>\n    </tr>\n    <tr>\n      <th>146245</th>\n      <td>2500</td>\n      <td>1098988</td>\n      <td>4.0</td>\n    </tr>\n    <tr>\n      <th>146282</th>\n      <td>2500</td>\n      <td>1099557</td>\n      <td>4.0</td>\n    </tr>\n    <tr>\n      <th>146284</th>\n      <td>2500</td>\n      <td>1099693</td>\n      <td>4.0</td>\n    </tr>\n  </tbody>\n</table>\n<p>155 rows × 3 columns</p>\n</div>"
     },
     "execution_count": 145,
     "metadata": {},
     "output_type": "execute_result"
    }
   ],
   "source": [
    "above_4"
   ],
   "metadata": {
    "collapsed": false,
    "pycharm": {
     "name": "#%%\n"
    }
   }
  },
  {
   "cell_type": "code",
   "execution_count": 146,
   "outputs": [],
   "source": [
    "all_samples = pd.concat([above_4,below_2])"
   ],
   "metadata": {
    "collapsed": false,
    "pycharm": {
     "name": "#%%\n"
    }
   }
  },
  {
   "cell_type": "code",
   "execution_count": 147,
   "outputs": [],
   "source": [
    "with_names = all_samples.merge(id_to_name,on='artist_id')"
   ],
   "metadata": {
    "collapsed": false,
    "pycharm": {
     "name": "#%%\n"
    }
   }
  },
  {
   "cell_type": "code",
   "execution_count": 148,
   "outputs": [],
   "source": [
    "with_names.to_csv('names_for_user_2500.csv')"
   ],
   "metadata": {
    "collapsed": false,
    "pycharm": {
     "name": "#%%\n"
    }
   }
  },
  {
   "cell_type": "code",
   "execution_count": null,
   "outputs": [],
   "source": [],
   "metadata": {
    "collapsed": false,
    "pycharm": {
     "name": "#%%\n"
    }
   }
  }
 ],
 "metadata": {
  "kernelspec": {
   "display_name": "Python 3",
   "language": "python",
   "name": "python3"
  },
  "language_info": {
   "codemirror_mode": {
    "name": "ipython",
    "version": 2
   },
   "file_extension": ".py",
   "mimetype": "text/x-python",
   "name": "python",
   "nbconvert_exporter": "python",
   "pygments_lexer": "ipython2",
   "version": "2.7.6"
  }
 },
 "nbformat": 4,
 "nbformat_minor": 0
}